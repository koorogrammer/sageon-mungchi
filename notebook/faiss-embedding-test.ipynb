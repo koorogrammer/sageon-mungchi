{
 "cells": [
  {
   "cell_type": "code",
   "execution_count": null,
   "id": "0b8a613d-5c8d-4f70-817e-61e1243d73ce",
   "metadata": {
    "scrolled": true
   },
   "outputs": [],
   "source": [
    "!pip install boto3 faiss-cpu"
   ]
  },
  {
   "cell_type": "code",
   "execution_count": null,
   "id": "15b96d79-1796-4893-89eb-d5856567b7d0",
   "metadata": {},
   "outputs": [],
   "source": [
    "import boto3\n",
    "import json\n",
    "import re\n",
    "import faiss\n",
    "import numpy as np"
   ]
  },
  {
   "cell_type": "markdown",
   "id": "65fd5ed5-ef2d-48f2-a513-27c0466fa856",
   "metadata": {},
   "source": [
    "# Load Data"
   ]
  },
  {
   "cell_type": "code",
   "execution_count": null,
   "id": "e3ee2a7d-b013-413e-bde8-ec2c06f92da6",
   "metadata": {},
   "outputs": [],
   "source": [
    "s3_client = boto3.client('s3')"
   ]
  },
  {
   "cell_type": "code",
   "execution_count": null,
   "id": "79578739-d5a5-4366-90ee-23ee9aeed97e",
   "metadata": {},
   "outputs": [],
   "source": [
    "bucket_name = 'sageon-mungchi-service'\n",
    "key = 'case_data'"
   ]
  },
  {
   "cell_type": "code",
   "execution_count": null,
   "id": "5ade170e-9e1d-4e93-bc02-6c02aad0255a",
   "metadata": {
    "scrolled": true
   },
   "outputs": [],
   "source": [
    "list_response = s3_client.list_objects_v2(Bucket=bucket_name, Prefix=key)\n",
    "file_keys = [content['Key'] for content in list_response.get('Contents', [])]\n",
    "\n",
    "file_keys"
   ]
  },
  {
   "cell_type": "code",
   "execution_count": null,
   "id": "2c7f8fac-07e9-428e-a9a0-bc86a71f9b4a",
   "metadata": {},
   "outputs": [],
   "source": [
    "def clean_content(content):\n",
    "    content = re.sub(r'\\s+', ' ', content)\n",
    "    content = content.replace('다.', '다.\\n')\n",
    "    content_list = content.split('\\n')\n",
    "    content_list = [sent.strip() for sent in content_list] \n",
    "    return content_list"
   ]
  },
  {
   "cell_type": "code",
   "execution_count": null,
   "id": "17e83f1b-92c0-46c7-9f21-262c8ce08c25",
   "metadata": {},
   "outputs": [],
   "source": [
    "content_response = s3_client.get_object(Bucket=bucket_name, Key=file_keys[0])\n",
    "text_data = content_response['Body'].read().decode('utf-8')\n",
    "case_data = json.loads(text_data)\n",
    "\n",
    "case_data['case_issue'] = clean_content(case_data['case_issue'])\n",
    "case_data['case_summary'] = clean_content(case_data['case_summary'])\n",
    "case_data['case_detail'] = clean_content(case_data['case_detail'])\n",
    "\n",
    "case_data"
   ]
  },
  {
   "cell_type": "markdown",
   "id": "699c8665-2261-4e3d-a6bb-dad0d307d3bd",
   "metadata": {},
   "source": [
    "# 임베딩 테스트"
   ]
  },
  {
   "cell_type": "code",
   "execution_count": null,
   "id": "ec8b3c14-163b-4fd3-879e-c88975ddc9c7",
   "metadata": {},
   "outputs": [],
   "source": [
    "br_client = boto3.client(\"bedrock-runtime\", region_name=\"ap-northeast-1\")"
   ]
  },
  {
   "cell_type": "code",
   "execution_count": null,
   "id": "937f5447-ad0b-4e44-b6e9-491d49a43e88",
   "metadata": {
    "scrolled": true
   },
   "outputs": [],
   "source": [
    "# titan\n",
    "model_id = \"amazon.titan-embed-text-v1\"\n",
    "\n",
    "native_request = {\"inputText\": case_data['case_detail'][0]}\n",
    "request = json.dumps(native_request)\n",
    "response = br_client.invoke_model(modelId=model_id, body=request)\n",
    "model_response = json.loads(response[\"body\"].read())\n",
    "\n",
    "embedding = model_response[\"embedding\"]\n",
    "input_token_count = model_response[\"inputTextTokenCount\"]\n",
    "\n",
    "print(input_token_count, embedding)"
   ]
  },
  {
   "cell_type": "code",
   "execution_count": null,
   "id": "e74fb49e-7744-4138-949a-0c90d788809d",
   "metadata": {
    "scrolled": true
   },
   "outputs": [],
   "source": [
    "# cohere\n",
    "model_id = \"cohere.embed-multilingual-v3\"\n",
    "\n",
    "native_request = {\"texts\": [case_data['case_detail'][0]], 'input_type':'search_query'}\n",
    "request = json.dumps(native_request)\n",
    "response = br_client.invoke_model(modelId=model_id, body=request)\n",
    "model_response = json.loads(response[\"body\"].read())\n",
    "embedding = model_response['embeddings'][0]\n",
    "\n",
    "embedding"
   ]
  },
  {
   "cell_type": "markdown",
   "id": "e3c8d280-cb76-4507-ab45-56aa5ce5aa0f",
   "metadata": {},
   "source": [
    "# 벡터 데이터베이스"
   ]
  },
  {
   "cell_type": "code",
   "execution_count": null,
   "id": "941b5dcf-453d-4f97-9ea9-3ca436fe37ba",
   "metadata": {},
   "outputs": [],
   "source": [
    "import gc\n",
    "gc.collect()"
   ]
  },
  {
   "cell_type": "code",
   "execution_count": null,
   "id": "ca8ae380-b642-49b6-a80c-2bfc9e42e8eb",
   "metadata": {},
   "outputs": [],
   "source": [
    "def clean_text(text):\n",
    "    text = text.replace('\\n', '')\n",
    "    text = re.sub(r'\\s+', ' ', text)\n",
    "    # content = content.replace('다.', '다.\\n')\n",
    "    # content_list = content.split('\\n')\n",
    "    # content_list = [sent.strip() for sent in content_list] \n",
    "    return text"
   ]
  },
  {
   "cell_type": "code",
   "execution_count": null,
   "id": "4bebb635-642e-47c3-a02f-ee3a3117af9a",
   "metadata": {},
   "outputs": [],
   "source": [
    "def load_content(file_key):\n",
    "    content_response = s3_client.get_object(Bucket=bucket_name, Key=file_key)\n",
    "    text_data = content_response['Body'].read().decode('utf-8')\n",
    "    case_data = json.loads(text_data)\n",
    "    \n",
    "    case_data['case_issue'] = clean_text(case_data['case_issue'])\n",
    "    case_data['case_summary'] = clean_text(case_data['case_summary'])\n",
    "    case_data['case_detail'] = clean_text(case_data['case_detail'])\n",
    "\n",
    "    return case_data"
   ]
  },
  {
   "cell_type": "code",
   "execution_count": null,
   "id": "81f7bb0a-f34d-47b9-98ad-8e64baf14464",
   "metadata": {},
   "outputs": [],
   "source": [
    "def get_titan_embedding(text):\n",
    "    model_id = \"amazon.titan-embed-text-v1\"\n",
    "    native_request = {\"inputText\": text[0:2048]}\n",
    "    request = json.dumps(native_request)\n",
    "    response = br_client.invoke_model(modelId=model_id, body=request)\n",
    "    model_response = json.loads(response[\"body\"].read())\n",
    "    embedding = model_response[\"embedding\"]\n",
    "    return embedding"
   ]
  },
  {
   "cell_type": "code",
   "execution_count": null,
   "id": "ef1844e9-e97c-4aa2-a8a0-faf43f15e460",
   "metadata": {},
   "outputs": [],
   "source": [
    "def get_cohere_embedding(text):\n",
    "    model_id = \"cohere.embed-multilingual-v3\"\n",
    "    native_request = {\"texts\": [text[0:2048]], 'input_type':'search_query'}\n",
    "    request = json.dumps(native_request)\n",
    "    response = br_client.invoke_model(modelId=model_id, body=request)\n",
    "    model_response = json.loads(response[\"body\"].read())\n",
    "    embedding = model_response['embeddings'][0]\n",
    "    return embedding"
   ]
  },
  {
   "cell_type": "code",
   "execution_count": null,
   "id": "b33f6659-d3aa-427a-8adf-9c0617682d0b",
   "metadata": {},
   "outputs": [],
   "source": [
    "def get_embeddings(documents, embedding_type='titan'):\n",
    "    embeddings = []\n",
    "    \n",
    "    for doc in documents:\n",
    "        text = doc['text']\n",
    "        \n",
    "        if embedding_type == 'titan':\n",
    "            embedding = get_titan_embedding(text)\n",
    "        elif embedding_type == 'cohere':\n",
    "            embedding = get_cohere_embedding(text)\n",
    "        else:\n",
    "            print('Embedding type must be titan or cohere.')\n",
    "            raise Exception()\n",
    "\n",
    "        embeddings.append(embedding)\n",
    "\n",
    "    return embeddings"
   ]
  },
  {
   "cell_type": "markdown",
   "id": "e120a96f-3630-46c7-90ff-0a20dc447080",
   "metadata": {},
   "source": [
    "### titan, cohere 중 더 좋은 걸 사용하기 위한 비교"
   ]
  },
  {
   "cell_type": "code",
   "execution_count": null,
   "id": "58a488be-2ace-4bcd-aa1d-99fe180f9ac3",
   "metadata": {},
   "outputs": [],
   "source": [
    "%%time\n",
    "\n",
    "documents = []\n",
    "\n",
    "for file_key in file_keys[0:5]:\n",
    "    case_data = load_content(file_key)\n",
    "    \n",
    "    for key in ['case_issue', 'case_summary', 'case_detail']:\n",
    "        text = case_data[key]\n",
    "        \n",
    "        if text == '':\n",
    "            continue\n",
    "            \n",
    "        documents.append({\n",
    "            'text': text,\n",
    "            'metadata': {\n",
    "                'case_no': case_data['case_no'],\n",
    "                'case_name': case_data['case_name'],\n",
    "                'case_date': case_data['case_date'],\n",
    "                'case_court': case_data['case_court'],\n",
    "            }\n",
    "        })\n",
    "\n",
    "len(documents)"
   ]
  },
  {
   "cell_type": "markdown",
   "id": "ba49d93f-1642-456e-b2e9-55c4128da5af",
   "metadata": {},
   "source": [
    "%%time\n",
    "\n",
    "titan_embeddings = get_embeddings(documents, 'titan')\n",
    "titan_index = faiss.IndexFlat(len(titan_embeddings[0]))\n",
    "titan_index.add(np.array(titan_embeddings))"
   ]
  },
  {
   "cell_type": "code",
   "execution_count": null,
   "id": "fcecc500-f860-4a7b-9589-ecef59eac397",
   "metadata": {},
   "outputs": [],
   "source": [
    "%%time\n",
    "\n",
    "cohere_embeddings = get_embeddings(documents, 'cohere')\n",
    "cohere_index = faiss.IndexFlat(len(cohere_embeddings[0]))\n",
    "cohere_index.add(np.array(cohere_embeddings))"
   ]
  },
  {
   "cell_type": "code",
   "execution_count": null,
   "id": "a46c190f-936c-4412-9614-20dd4de416b6",
   "metadata": {
    "scrolled": true
   },
   "outputs": [],
   "source": [
    "import random\n",
    "\n",
    "random_index = random.randint(0, len(documents)-1)\n",
    "documents[random_index]['text']"
   ]
  },
  {
   "cell_type": "code",
   "execution_count": null,
   "id": "a4b5dc84-290f-4726-902d-c1d6d98aeeb1",
   "metadata": {},
   "outputs": [],
   "source": [
    "query = '사무실을 같은 동네에서 이전했는데 새로운 건물에 가격이 더 비싸다고 더 세금을 많이 내야 해?'"
   ]
  },
  {
   "cell_type": "code",
   "execution_count": null,
   "id": "b35f9f71-1e30-4b57-b967-9d7dec6a7ecb",
   "metadata": {},
   "outputs": [],
   "source": [
    "titan_query_embedding = get_titan_embedding(query)\n",
    "distances, indices = titan_index.search(np.array([titan_query_embedding]), 3)\n",
    "print(\"검색 결과:\")\n",
    "for i, idx in enumerate(indices[0]):\n",
    "    print(f\"Rank {i+1}:\")\n",
    "    print(f\"Text: {documents[idx]['text']}\")\n",
    "    # print(f\"Metadata: {metadata_df.iloc[idx].to_dict()}\")\n",
    "    print(f\"Distance: {distances[0][i]}\")"
   ]
  },
  {
   "cell_type": "code",
   "execution_count": null,
   "id": "d715d116-c0b5-405b-bfc4-976cac5467a4",
   "metadata": {},
   "outputs": [],
   "source": [
    "cohere_query_embedding = get_cohere_embedding(query)\n",
    "distances, indices = cohere_index.search(np.array([cohere_query_embedding]), 3)\n",
    "print(\"검색 결과:\")\n",
    "for i, idx in enumerate(indices[0]):\n",
    "    print(f\"Rank {i+1}:\")\n",
    "    print(f\"Text: {documents[idx]['text']}\")\n",
    "    # print(f\"Metadata: {metadata_df.iloc[idx].to_dict()}\")\n",
    "    print(f\"Distance: {distances[0][i]}\")"
   ]
  },
  {
   "cell_type": "markdown",
   "id": "d131f9ee-7edf-4f13-9f8a-c6ad1f189a54",
   "metadata": {},
   "source": [
    "<span style=\"color: red;\"> titan vs cohere = 0: 3 </span>\n",
    "- cohere와 titan 중 cohere가 좀 더 짧은 텍스트에서 핵심을 추출하는 경향이 있음\n",
    "- ranking 내에서도 핵심인 내용이 상위로 더 잘 올라옴\n",
    "- 가격은 동일함\n",
    "- 따라서 cohere로 결정!"
   ]
  },
  {
   "cell_type": "markdown",
   "id": "23b6cc3c-fde0-494a-97d1-bccc48cefb41",
   "metadata": {},
   "source": [
    "### 입력한계인 2048자를 넘기는 경우에 대해"
   ]
  },
  {
   "cell_type": "code",
   "execution_count": null,
   "id": "958d3870-2128-4416-9000-66884427ca5f",
   "metadata": {
    "scrolled": true
   },
   "outputs": [],
   "source": [
    "over_2048 = []\n",
    "full_count = 0\n",
    "\n",
    "for file_key in file_keys:\n",
    "    case_data = load_content(file_key)\n",
    "    \n",
    "    for key in ['case_issue', 'case_summary', 'case_detail']:\n",
    "        text = case_data[key]\n",
    "        full_count += 1\n",
    "        \n",
    "        if text == '':\n",
    "            continue\n",
    "\n",
    "        if len(text) > 2048:\n",
    "            print(len(text), round((len(text)-2048)/2048*100, 0))\n",
    "            over_2048.append(text)\n",
    "\n",
    "print(round(len(over_2048)/full_count*100, 2))"
   ]
  },
  {
   "cell_type": "markdown",
   "id": "62327a16-9b72-407f-9929-286fdf80963f",
   "metadata": {},
   "source": [
    "<span style=\"color: red;\"> 30%가 2048자를 넘는다. 많이 넘는건 최대 400% 이상 넘는다. </span>\n",
    "- 텍스트를 잘라서 내용 손실을 보지 않는 것이 좋을 듯 하다."
   ]
  },
  {
   "cell_type": "code",
   "execution_count": null,
   "id": "81be55c4-dc15-468d-bbf0-10d43ca1acb2",
   "metadata": {},
   "outputs": [],
   "source": [
    "# def cos_sim(a, b):\n",
    "#     a = np.array(a)\n",
    "#     b = np.array(b)\n",
    "\n",
    "#     dot = np.dot(a, b)\n",
    "#     norm_a = np.linalg.norm(a)\n",
    "#     norm_b = np.linalg.norm(b)\n",
    "\n",
    "#     return dot / (norm_a + norm_b)"
   ]
  },
  {
   "cell_type": "code",
   "execution_count": null,
   "id": "0b2436fe-0a99-41b6-b101-22df789831fd",
   "metadata": {},
   "outputs": [],
   "source": [
    "# threshold = 0.5\n",
    "\n",
    "# def divide_text(sent_list):\n",
    "#     part_list = []\n",
    "#     before_embedding = None\n",
    "    \n",
    "#     for i, sent in enumerate(sent_list):\n",
    "#         if i == 0:\n",
    "#             part_list.append(sent)\n",
    "#             before_embedding = get_cohere_embedding(sent)\n",
    "#             continue\n",
    "\n",
    "#         embedding = get_cohere_embedding(sent)\n",
    "#         if cos_sim(before_embedding, embedding) > threshold:\n",
    "#             part_list[-1] = part_list[-1] + ' ' + sent\n",
    "#         else:\n",
    "#             part_list.append(sent)\n",
    "\n",
    "#     return part_list"
   ]
  },
  {
   "cell_type": "code",
   "execution_count": null,
   "id": "7e688ff4-9275-4316-9bcf-bd6a2d399fa0",
   "metadata": {},
   "outputs": [],
   "source": [
    "# clean_text를 다시 수정해보자.\n",
    "# idea1: 【이 유】 앞뒤로 구분한다.\n",
    "# idea2: 문장을 구분한다.\n",
    "def clean_text(text):\n",
    "    if len(text) <= 2048:\n",
    "        text = text.replace('\\n', '')\n",
    "        text = re.sub(r'\\s+', ' ', text)\n",
    "        return [text]\n",
    "    \n",
    "    text = text.replace('\\n', '')\n",
    "    text = re.sub(r'\\s+', ' ', text)\n",
    "\n",
    "    part_list = []\n",
    "    \n",
    "    split1 = text.split('【주 문】')\n",
    "    \n",
    "    split2 = split1[1].split('【이 유】')\n",
    "    part_list.append(split1[0] + ' 【주 문】 ' + split2[0])\n",
    "\n",
    "    split3 = re.split(r'(?<=다\\.\\s\\d\\.\\s)', split2[1])\n",
    "    for part in split3:\n",
    "        if len(part) < 150:\n",
    "            continue\n",
    "\n",
    "        if len(part) <= 2048:\n",
    "            part_list.append('【주 문】 ' + split2[0] + ' 【이 유】 ' + part[:-4])\n",
    "        else:\n",
    "            chunk_size = 2048 - len('【주 문】 ' + split2[0] + ' 【이 유】 ')\n",
    "            slide_step = 1024\n",
    "            part_list += ['【주 문】 ' + split2[0] + ' 【이 유】 ' + part[i:i + chunk_size] \n",
    "                          for i in range(0, len(part), slide_step)]\n",
    "\n",
    "    return part_list"
   ]
  },
  {
   "cell_type": "code",
   "execution_count": null,
   "id": "11dc5b4c-1af9-4698-aee0-05ad6afb0a29",
   "metadata": {
    "scrolled": true
   },
   "outputs": [],
   "source": [
    "import random\n",
    "random_index = random.randint(0, len(over_2048)-1)\n",
    "over_2048[random_index]"
   ]
  },
  {
   "cell_type": "markdown",
   "id": "d966773d-aa15-4f0b-9034-41351e2a0299",
   "metadata": {},
   "source": [
    "# 최종 코드"
   ]
  },
  {
   "cell_type": "code",
   "execution_count": null,
   "id": "5360fd9c-c6b1-4ac0-bffa-9a284f753ce8",
   "metadata": {},
   "outputs": [],
   "source": [
    "import boto3\n",
    "import json\n",
    "import re\n",
    "import faiss\n",
    "import numpy as np\n",
    "from datetime import datetime"
   ]
  },
  {
   "cell_type": "code",
   "execution_count": null,
   "id": "95ef719e-f0d2-481c-a6ea-18fbb5610de5",
   "metadata": {},
   "outputs": [],
   "source": [
    "s3_client = boto3.client('s3')\n",
    "\n",
    "bucket_name = 'sageon-mungchi-service'\n",
    "key = 'case_data'\n",
    "save_key = 'vector_db/faiss'"
   ]
  },
  {
   "cell_type": "code",
   "execution_count": null,
   "id": "e34bc7d1-620f-45f4-b5a8-ff69cbac9c09",
   "metadata": {},
   "outputs": [],
   "source": [
    "br_client = boto3.client(\"bedrock-runtime\", region_name=\"ap-northeast-1\")"
   ]
  },
  {
   "cell_type": "code",
   "execution_count": null,
   "id": "ba9bbffb-8755-4fc4-bce5-96854c7381c4",
   "metadata": {},
   "outputs": [],
   "source": [
    "def get_s3_file_keys():\n",
    "    list_response = s3_client.list_objects_v2(Bucket=bucket_name, Prefix=key)\n",
    "    file_keys = [content['Key'] for content in list_response.get('Contents', [])]\n",
    "    return file_keys"
   ]
  },
  {
   "cell_type": "code",
   "execution_count": null,
   "id": "b6e0df8a-0bea-4530-852c-942c50430444",
   "metadata": {},
   "outputs": [],
   "source": [
    "def load_content(file_key):\n",
    "    content_response = s3_client.get_object(Bucket=bucket_name, Key=file_key)\n",
    "    text_data = content_response['Body'].read().decode('utf-8')\n",
    "    case_data = json.loads(text_data)\n",
    "    \n",
    "    case_data['case_issue'] = clean_text(case_data['case_issue'])\n",
    "    case_data['case_summary'] = clean_text(case_data['case_summary'])\n",
    "    case_data['case_detail'] = clean_text(case_data['case_detail'])\n",
    "\n",
    "    return case_data"
   ]
  },
  {
   "cell_type": "code",
   "execution_count": null,
   "id": "d51bd888-bba2-4326-8e9d-007af8beca1e",
   "metadata": {},
   "outputs": [],
   "source": [
    "def clean_text(text):\n",
    "    if len(text) <= 2048:\n",
    "        text = text.replace('\\n', '')\n",
    "        text = re.sub(r'\\s+', ' ', text)\n",
    "        return [text]\n",
    "        \n",
    "    text = text.replace('\\n', '')\n",
    "    text = re.sub(r'\\s+', ' ', text)\n",
    "\n",
    "    part_list = []\n",
    "    \n",
    "    try:\n",
    "        split1 = text.split('【주 문】')\n",
    "    \n",
    "        split2 = split1[1].split('【이 유】')\n",
    "        part_list.append(split1[0] + ' 【주 문】 ' + split2[0])\n",
    "    \n",
    "        split3 = re.split(r'(?<=다\\.\\s\\d\\.\\s)', split2[1])\n",
    "        for part in split3:\n",
    "            if len(part) < 150:\n",
    "                continue\n",
    "    \n",
    "            if len(part) <= 2048:\n",
    "                part_list.append('【주 문】 ' + split2[0] + ' 【이 유】 ' + part[:-4])\n",
    "            else:\n",
    "                chunk_size = 2048 - len('【주 문】 ' + split2[0] + ' 【이 유】 ')\n",
    "                slide_step = 1024\n",
    "                part_list += ['【주 문】 ' + split2[0] + ' 【이 유】 ' + part[i:i + chunk_size] \n",
    "                              for i in range(0, len(part), slide_step)]\n",
    "                \n",
    "    except IndexError: # 【주 문】, 【이 유】가 없는 경우 exception 발생\n",
    "        chunk_size = 2048\n",
    "        slide_step = 1024\n",
    "        part_list += [text[i:i + chunk_size] for i in range(0, len(text), slide_step)]\n",
    "    \n",
    "    return part_list"
   ]
  },
  {
   "cell_type": "code",
   "execution_count": null,
   "id": "3d8c6b8e-bcb0-4677-aef6-c1029f5eb2e2",
   "metadata": {},
   "outputs": [],
   "source": [
    "def get_cohere_embedding(text):\n",
    "    model_id = \"cohere.embed-multilingual-v3\"\n",
    "    native_request = {\"texts\": [text[0:2048]], 'input_type':'search_query'}\n",
    "    request = json.dumps(native_request)\n",
    "    response = br_client.invoke_model(modelId=model_id, body=request)\n",
    "    model_response = json.loads(response[\"body\"].read())\n",
    "    embedding = model_response['embeddings'][0]\n",
    "    return embedding"
   ]
  },
  {
   "cell_type": "code",
   "execution_count": null,
   "id": "f49d56db-10b2-429d-9eb5-dd5aed896c66",
   "metadata": {},
   "outputs": [],
   "source": [
    "def get_titan_embedding(text):\n",
    "    model_id = \"amazon.titan-embed-text-v1\"\n",
    "    native_request = {\"inputText\": text[0:2048]}\n",
    "    request = json.dumps(native_request)\n",
    "    response = br_client.invoke_model(modelId=model_id, body=request)\n",
    "    model_response = json.loads(response[\"body\"].read())\n",
    "    embedding = model_response[\"embedding\"]\n",
    "    return embedding"
   ]
  },
  {
   "cell_type": "code",
   "execution_count": null,
   "id": "f93eac89-f1a3-4871-b4d1-957bd890d299",
   "metadata": {},
   "outputs": [],
   "source": [
    "def get_coduments(file_keys):\n",
    "    documents = []\n",
    "\n",
    "    for file_key in file_keys:\n",
    "        case_data = load_content(file_key)\n",
    "        \n",
    "        for key in ['case_issue', 'case_summary', 'case_detail']:\n",
    "            texts = case_data[key]\n",
    "\n",
    "            for text in texts:\n",
    "                if text == '' or text is None or len(text) <= 0:\n",
    "                    continue\n",
    "                    \n",
    "                documents.append({\n",
    "                    'text': text,\n",
    "                    'metadata': {\n",
    "                        'case_no': case_data['case_no'],\n",
    "                        'case_name': case_data['case_name'],\n",
    "                        'case_date': case_data['case_date'],\n",
    "                        'case_court': case_data['case_court'],\n",
    "                    }\n",
    "                })\n",
    "\n",
    "    return documents"
   ]
  },
  {
   "cell_type": "code",
   "execution_count": null,
   "id": "4a5fe187-8212-4040-a2b4-f1a5db691ed2",
   "metadata": {},
   "outputs": [],
   "source": [
    "def get_embeddings(documents, embedding_type='cohere'):\n",
    "    embeddings = []\n",
    "    metadata = {}\n",
    "    \n",
    "    for i, doc in enumerate(documents):\n",
    "        text = doc['text']\n",
    "        \n",
    "        if embedding_type == 'titan':\n",
    "            embedding = get_titan_embedding(text)\n",
    "        elif embedding_type == 'cohere':\n",
    "            embedding = get_cohere_embedding(text)\n",
    "        else:\n",
    "            print('Embedding type must be titan or cohere.')\n",
    "            raise Exception()\n",
    "\n",
    "        embeddings.append(embedding)\n",
    "        metadata[i] = doc['metadata']\n",
    "\n",
    "    return embeddings, metadata"
   ]
  },
  {
   "cell_type": "code",
   "execution_count": null,
   "id": "45a2cd6f-80c1-4dea-9686-df3d095673d3",
   "metadata": {},
   "outputs": [],
   "source": [
    "def save_faiss_db(index, metadata):    \n",
    "    faiss.write_index(index, 'faiss_index.index')\n",
    "\n",
    "    dstring = datetime.now().strftime('%Y%m%d')\n",
    "    index_key = f\"{save_key}/{dstring}/faiss_index.index\"\n",
    "    metadata_key = f\"{save_key}/{dstring}/metadata.json\"\n",
    "\n",
    "    s3_client.upload_file('faiss_index.index', bucket_name, index_key)\n",
    "    s3_client.put_object(Bucket=bucket_name, Key=metadata_key, Body=json.dumps(metadata))"
   ]
  },
  {
   "cell_type": "code",
   "execution_count": null,
   "id": "62886e2b-79a4-4afd-8916-56642f492726",
   "metadata": {
    "scrolled": true
   },
   "outputs": [],
   "source": [
    "%%time\n",
    "\n",
    "print(\"======= Load Documents ======\")\n",
    "s3_file_keys = get_s3_file_keys()\n",
    "documents = get_coduments(s3_file_keys)"
   ]
  },
  {
   "cell_type": "code",
   "execution_count": null,
   "id": "2e88a707-ea64-43ff-82ba-9977c1ceab63",
   "metadata": {},
   "outputs": [],
   "source": [
    "%%time\n",
    "\n",
    "print(\"======= Loading Vector Database ======\")\n",
    "embeddings, metadata = get_embeddings(documents, 'cohere')\n",
    "index = faiss.IndexFlat(len(embeddings[0]))\n",
    "index.add(np.array(embeddings))"
   ]
  },
  {
   "cell_type": "code",
   "execution_count": null,
   "id": "2098b307-aaa5-402b-82d2-bcdcc444f30d",
   "metadata": {},
   "outputs": [],
   "source": [
    "%%time\n",
    "\n",
    "print(\"======= Run Test Query ======\")\n",
    "query = '사무실을 같은 동네에서 이전했는데 새로운 건물에 가격이 더 비싸다고 더 세금을 많이 내야 해?'\n",
    "query_embedding = get_cohere_embedding(query)\n",
    "distances, indices = index.search(np.array([query_embedding]), 3)\n",
    "print(\"검색 결과:\")\n",
    "for i, idx in enumerate(indices[0]):\n",
    "    print(f\"Rank {i+1}:\")\n",
    "    print(f\"Metadata: {metadata[i]}\")\n",
    "    print(f\"Text: {documents[idx]['text']}\")\n",
    "    print(f\"Distance: {distances[0][i]}\")"
   ]
  },
  {
   "cell_type": "code",
   "execution_count": null,
   "id": "b6a4a715-2902-428c-9c88-959735b13b08",
   "metadata": {},
   "outputs": [],
   "source": [
    "print(\"======= Save to S3 ======\")\n",
    "save_faiss_db(index, metadata)"
   ]
  },
  {
   "cell_type": "code",
   "execution_count": null,
   "id": "0306754e-11ee-4d98-a6ad-8fd210bf6cb7",
   "metadata": {},
   "outputs": [],
   "source": []
  }
 ],
 "metadata": {
  "kernelspec": {
   "display_name": "Python 3 (ipykernel)",
   "language": "python",
   "name": "python3"
  },
  "language_info": {
   "codemirror_mode": {
    "name": "ipython",
    "version": 3
   },
   "file_extension": ".py",
   "mimetype": "text/x-python",
   "name": "python",
   "nbconvert_exporter": "python",
   "pygments_lexer": "ipython3",
   "version": "3.10.14"
  }
 },
 "nbformat": 4,
 "nbformat_minor": 5
}
