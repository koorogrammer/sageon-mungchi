{
 "cells": [
  {
   "cell_type": "code",
   "execution_count": 2,
   "id": "84eefb02-e61e-456f-b4c8-04c9260847db",
   "metadata": {
    "scrolled": true
   },
   "outputs": [
    {
     "name": "stdout",
     "output_type": "stream",
     "text": [
      "Collecting faiss-cpu\n",
      "  Using cached faiss_cpu-1.8.0.post1-cp310-cp310-manylinux_2_17_x86_64.manylinux2014_x86_64.whl.metadata (3.7 kB)\n",
      "Requirement already satisfied: boto3 in /opt/conda/lib/python3.10/site-packages (1.34.131)\n",
      "Requirement already satisfied: numpy<2.0,>=1.0 in /opt/conda/lib/python3.10/site-packages (from faiss-cpu) (1.26.4)\n",
      "Requirement already satisfied: packaging in /opt/conda/lib/python3.10/site-packages (from faiss-cpu) (23.2)\n",
      "Requirement already satisfied: botocore<1.35.0,>=1.34.131 in /opt/conda/lib/python3.10/site-packages (from boto3) (1.34.131)\n",
      "Requirement already satisfied: jmespath<2.0.0,>=0.7.1 in /opt/conda/lib/python3.10/site-packages (from boto3) (1.0.1)\n",
      "Requirement already satisfied: s3transfer<0.11.0,>=0.10.0 in /opt/conda/lib/python3.10/site-packages (from boto3) (0.10.2)\n",
      "Requirement already satisfied: python-dateutil<3.0.0,>=2.1 in /opt/conda/lib/python3.10/site-packages (from botocore<1.35.0,>=1.34.131->boto3) (2.9.0)\n",
      "Requirement already satisfied: urllib3!=2.2.0,<3,>=1.25.4 in /opt/conda/lib/python3.10/site-packages (from botocore<1.35.0,>=1.34.131->boto3) (1.26.19)\n",
      "Requirement already satisfied: six>=1.5 in /opt/conda/lib/python3.10/site-packages (from python-dateutil<3.0.0,>=2.1->botocore<1.35.0,>=1.34.131->boto3) (1.16.0)\n",
      "Using cached faiss_cpu-1.8.0.post1-cp310-cp310-manylinux_2_17_x86_64.manylinux2014_x86_64.whl (27.0 MB)\n",
      "Installing collected packages: faiss-cpu\n",
      "Successfully installed faiss-cpu-1.8.0.post1\n"
     ]
    }
   ],
   "source": [
    "# !pip install faiss-cpu boto3"
   ]
  },
  {
   "cell_type": "code",
   "execution_count": 4,
   "id": "2b8b64f1-c234-44d0-989e-bd92ec7bf615",
   "metadata": {},
   "outputs": [],
   "source": [
    "import boto3\n",
    "import faiss\n",
    "import json\n",
    "import numpy as np"
   ]
  },
  {
   "cell_type": "markdown",
   "id": "f6fe71d4-7d5a-49ee-9e2b-adc82e575b71",
   "metadata": {},
   "source": [
    "# Load Vector db"
   ]
  },
  {
   "cell_type": "code",
   "execution_count": 5,
   "id": "0629097e-b247-41f2-8d15-c97b2f1686f8",
   "metadata": {},
   "outputs": [],
   "source": [
    "s3_client = boto3.client('s3')"
   ]
  },
  {
   "cell_type": "code",
   "execution_count": 6,
   "id": "17e87e89-df07-48b6-b21f-fc31990a7ac9",
   "metadata": {},
   "outputs": [],
   "source": [
    "bucket_name = 'sageon-mungchi-service'\n",
    "key = 'vector_db/'"
   ]
  },
  {
   "cell_type": "code",
   "execution_count": 7,
   "id": "c26d45d8-92b3-498e-ae44-bff8b343dd5e",
   "metadata": {},
   "outputs": [],
   "source": [
    "def get_s3_file_keys():\n",
    "    list_response = s3_client.list_objects_v2(Bucket=bucket_name, Prefix=key)\n",
    "    file_keys = [content['Key'] for content in list_response.get('Contents', [])]\n",
    "    return file_keys"
   ]
  },
  {
   "cell_type": "code",
   "execution_count": 8,
   "id": "efabb060-8a45-4b14-8a20-2340cec69ca4",
   "metadata": {},
   "outputs": [],
   "source": [
    "def get_latest_index_and_matadata_key(keys):\n",
    "    key_dts = [int(key_string.split('/')[2]) for key_string in keys]\n",
    "    latest_dt = max(key_dts)\n",
    "\n",
    "    latest_index_key = f'{key}faiss/{latest_dt}/faiss_index.index'\n",
    "    latest_metadata_key = f'{key}faiss/{latest_dt}/metadata.json'\n",
    "\n",
    "    return latest_index_key, latest_metadata_key"
   ]
  },
  {
   "cell_type": "code",
   "execution_count": 9,
   "id": "462522e9-92c2-440e-817a-77a7d00ccc23",
   "metadata": {},
   "outputs": [],
   "source": [
    "def get_index(index_key):\n",
    "    local_filename = 'faiss_index.index'\n",
    "    s3_client.download_file(bucket_name, index_key, local_filename)\n",
    "    return faiss.read_index(local_filename)"
   ]
  },
  {
   "cell_type": "code",
   "execution_count": 10,
   "id": "4bc9c516-fe3c-4c93-ad2b-5a5cd4861b0b",
   "metadata": {},
   "outputs": [],
   "source": [
    "def get_metadata(metadata_key):\n",
    "    local_filename = 'metadata.json'\n",
    "    s3_client.download_file(bucket_name, metadata_key, local_filename)\n",
    "\n",
    "    with open(local_filename, 'r') as f:\n",
    "        metadata = json.load(f)\n",
    "\n",
    "    return metadata"
   ]
  },
  {
   "cell_type": "code",
   "execution_count": 11,
   "id": "a98c1cba-31d6-4158-a1f9-3ea84d807f5a",
   "metadata": {},
   "outputs": [],
   "source": [
    "def get_vectordb_and_metadata():\n",
    "    keys = get_s3_file_keys()\n",
    "    index_key, metadata_key = get_latest_index_and_matadata_key(keys)\n",
    "    index = get_index(index_key)\n",
    "    metadata = get_metadata(metadata_key)\n",
    "    return index, metadata"
   ]
  },
  {
   "cell_type": "code",
   "execution_count": 12,
   "id": "363f595a-96b3-48d2-928b-97d727df6eb8",
   "metadata": {},
   "outputs": [],
   "source": [
    "index, metadata = get_vectordb_and_metadata()"
   ]
  },
  {
   "cell_type": "code",
   "execution_count": 13,
   "id": "94b4fe65-e120-4311-8d9b-d4543e23e368",
   "metadata": {},
   "outputs": [
    {
     "data": {
      "text/plain": [
       "{'case_no': '2012두6551',\n",
       " 'case_name': '취득세등부과처분취소',\n",
       " 'case_date': '2012.07.12',\n",
       " 'case_court': '대법원',\n",
       " 'text': '과밀억제권역 안에서 본점 또는 주사무소용 건축물을 신축 또는 증축하여 취득하는 경우, 동일한 과밀억제권역 안에 있던 기존의 본점 또는 주사무소에서 이전해 오더라도 구 지방세법 제112조 제3항에 의한 취득세 중과대상인지 여부(적극) '}"
      ]
     },
     "execution_count": 13,
     "metadata": {},
     "output_type": "execute_result"
    }
   ],
   "source": [
    "metadata['3']"
   ]
  },
  {
   "cell_type": "markdown",
   "id": "7be0c630-2c59-4297-885d-6e0396396ada",
   "metadata": {},
   "source": [
    "# 벡터 데이터베이스 검색 결과"
   ]
  },
  {
   "cell_type": "code",
   "execution_count": 14,
   "id": "f801af4e-bcdb-4623-a47d-a17eb0a5ac7a",
   "metadata": {},
   "outputs": [],
   "source": [
    "br_client = boto3.client(\"bedrock-runtime\", region_name=\"ap-northeast-1\")"
   ]
  },
  {
   "cell_type": "code",
   "execution_count": 15,
   "id": "4bacb50e-3e3f-4151-95c9-802d4760800f",
   "metadata": {},
   "outputs": [],
   "source": [
    "def get_cohere_embedding(text):\n",
    "    model_id = \"cohere.embed-multilingual-v3\"\n",
    "    native_request = {\"texts\": [text[0:2048]], 'input_type':'search_query'}\n",
    "    request = json.dumps(native_request)\n",
    "    response = br_client.invoke_model(modelId=model_id, body=request)\n",
    "    model_response = json.loads(response[\"body\"].read())\n",
    "    embedding = model_response['embeddings'][0]\n",
    "    return embedding"
   ]
  },
  {
   "cell_type": "code",
   "execution_count": 16,
   "id": "e9b0e433-b2e2-462d-9cb5-17d9f60cd41f",
   "metadata": {},
   "outputs": [],
   "source": [
    "def get_vectordb_query_result(query, top_n=5):\n",
    "    query_embedding = get_cohere_embedding(query)\n",
    "    distances, indices = index.search(np.array([query_embedding]), top_n)\n",
    "\n",
    "    result = []\n",
    "    for i, idx in enumerate(indices[0]):\n",
    "        result.append(metadata[str(idx)])\n",
    "\n",
    "    return result"
   ]
  },
  {
   "cell_type": "code",
   "execution_count": 17,
   "id": "dd714a86-cac1-4731-9243-2267276cdb77",
   "metadata": {},
   "outputs": [],
   "source": [
    "query = '사무실을 같은 동네에서 이전했는데 새로운 건물에 가격이 더 비싸다고 더 세금을 많이 내야 해?'"
   ]
  },
  {
   "cell_type": "code",
   "execution_count": 18,
   "id": "800784de-df1f-4714-a6e3-27d14d7edb06",
   "metadata": {
    "scrolled": true
   },
   "outputs": [
    {
     "data": {
      "text/plain": [
       "{'case_no': '2012두6551',\n",
       " 'case_name': '취득세등부과처분취소',\n",
       " 'case_date': '2012.07.12',\n",
       " 'case_court': '대법원',\n",
       " 'text': '과밀억제권역 안에서 본점 또는 주사무소용 건축물을 신축 또는 증축하여 취득하는 경우, 동일한 과밀억제권역 안에 있던 기존의 본점 또는 주사무소에서 이전해 오더라도 구 지방세법 제112조 제3항에 의한 취득세 중과대상인지 여부(적극) '}"
      ]
     },
     "execution_count": 18,
     "metadata": {},
     "output_type": "execute_result"
    }
   ],
   "source": [
    "search_result = get_vectordb_query_result(query)\n",
    "search_result[0]"
   ]
  },
  {
   "cell_type": "markdown",
   "id": "16556d2e-3fc3-48e4-b069-ebc986ccbd34",
   "metadata": {},
   "source": [
    "# 검색 결과로 생성형 AI에서 답변 생성하기"
   ]
  },
  {
   "cell_type": "code",
   "execution_count": 100,
   "id": "c1280ad6-9dab-432a-b469-8bb655af8176",
   "metadata": {},
   "outputs": [],
   "source": [
    "def generate_prompt(query, search_result, conversation_history=[]):\n",
    "    context = ''\n",
    "    for r in search_result:\n",
    "        context += f\"[사건번호: {r['case_no']}, 사건명: {r['case_name']}, 선고일자: {r['case_date']}, 법원종류: {r['case_court']}]\\n\"\n",
    "        context += f\"{r['text']}\\n\\n\"\n",
    "\n",
    "    history = ''\n",
    "    for h in conversation_history:\n",
    "        history += f\"Human: {h['human']}\\nAssistant: {h['assistant']}\\n\"\n",
    "    \n",
    "    prompt = f\"\"\"\n",
    "    Human: 너는 한국 세법 전문가로 판례를 해석해서 사용자에게 필요한 세무 정보를 제공하는 AI assistant야.\n",
    "\n",
    "    아래 주어지는 정보들은 이전 대화 내용이야.\n",
    "    {history}\n",
    "    \n",
    "    아래 주어지는 정보들은 사용자의 질문과 관련된 판례 정보야.\n",
    "    {context}\n",
    "\n",
    "    이 판례 정보를 활용해 사용자 질문에 답변하되 없는 정보를 만들어내지 마.\n",
    "    답변을 생성할 때 참고한 정보의 출처를 반드시 [사건번호: <참고 내용의 사건번호>, 사건명: <참고 내용의 사건명>, 선고일자: <참고 내용의 선고일자>, 법원종류: <참고 내용의 법원>] 형식으로 표기해.\n",
    "    \n",
    "    Human: {query}\n",
    "    Assistant:\n",
    "    \"\"\"\n",
    "    return prompt"
   ]
  },
  {
   "cell_type": "code",
   "execution_count": 89,
   "id": "70a386f4-baa3-4588-b1d5-d25d9d3a711b",
   "metadata": {},
   "outputs": [],
   "source": [
    "def generate_answer(prompt):\n",
    "    model_id = 'anthropic.claude-v2:1'\n",
    "\n",
    "    body = json.dumps({\n",
    "        'anthropic_version': 'bedrock-2023-05-31',\n",
    "        'max_tokens': 10000,\n",
    "        'messages': [\n",
    "            {\n",
    "                'role': 'user',\n",
    "                'content': [{'type': 'text', 'text': prompt}]\n",
    "            }\n",
    "        ],\n",
    "        'temperature': 0.5,\n",
    "    })\n",
    "\n",
    "    response = br_client.invoke_model(body=body, modelId=model_id, \n",
    "                                accept='application/json', contentType='application/json')\n",
    "\n",
    "    response_body = json.loads(response.get('body').read())\n",
    "    print(response_body)\n",
    "    return response_body['content'][0]['text']"
   ]
  },
  {
   "cell_type": "code",
   "execution_count": 90,
   "id": "d9907934-93ec-40b6-9283-d84ce1191f23",
   "metadata": {},
   "outputs": [],
   "source": [
    "def generate_stream_answer(prompt):\n",
    "    model_id = 'anthropic.claude-v2:1'\n",
    "\n",
    "    body = json.dumps({\n",
    "        'anthropic_version': 'bedrock-2023-05-31',\n",
    "        'max_tokens': 10000,\n",
    "        'messages': [\n",
    "            {\n",
    "                'role': 'user',\n",
    "                'content': [{'type': 'text', 'text': prompt}]\n",
    "            }\n",
    "        ],\n",
    "        'temperature': 0.5,\n",
    "    })\n",
    "\n",
    "    response = br_client.invoke_model_with_response_stream(\n",
    "        body=body, modelId=model_id,\n",
    "    )\n",
    "\n",
    "    stream = response.get('body')\n",
    "    if stream:\n",
    "        for event in stream:\n",
    "            chunk = event.get('chunk')\n",
    "            if chunk:\n",
    "                chunk_data = json.loads(chunk.get('bytes').decode())\n",
    "                if chunk_data['type'] == 'content_block_delta':\n",
    "                    yield chunk_data['delta']['text']"
   ]
  },
  {
   "cell_type": "code",
   "execution_count": 91,
   "id": "6e5b5459-15b7-48d0-99e0-177e267c4d22",
   "metadata": {},
   "outputs": [],
   "source": [
    "query1 = '사무실을 같은 동네에서 이전했는데 새로운 건물에 가격이 더 비싸다고 더 세금을 많이 내야 해?'\n",
    "query2 = '그럼 어떤 법령을 기준으로 돈을 내야 하는건지 자세히 설명해봐'"
   ]
  },
  {
   "cell_type": "code",
   "execution_count": 102,
   "id": "2ff0ac70-5ab9-41f3-9f92-3ac45c0f972d",
   "metadata": {},
   "outputs": [],
   "source": [
    "conversation_history = []"
   ]
  },
  {
   "cell_type": "code",
   "execution_count": 103,
   "id": "8a25ddd9-e65a-4ac0-8556-d4dde498ce51",
   "metadata": {},
   "outputs": [
    {
     "name": "stdout",
     "output_type": "stream",
     "text": [
      "Prompt:\n",
      "\n",
      "    Human: 너는 한국 세법 전문가로 판례를 해석해서 사용자에게 필요한 세무 정보를 제공하는 AI assistant야.\n",
      "\n",
      "    아래 주어지는 정보들은 이전 대화 내용이야.\n",
      "    \n",
      "    \n",
      "    아래 주어지는 정보들은 사용자의 질문과 관련된 판례 정보야.\n",
      "    [사건번호: 2012두6551, 사건명: 취득세등부과처분취소, 선고일자: 2012.07.12, 법원종류: 대법원]\n",
      "과밀억제권역 안에서 본점 또는 주사무소용 건축물을 신축 또는 증축하여 취득하는 경우, 동일한 과밀억제권역 안에 있던 기존의 본점 또는 주사무소에서 이전해 오더라도 구 지방세법 제112조 제3항에 의한 취득세 중과대상인지 여부(적극) \n",
      "\n",
      "[사건번호: 2013두26194, 사건명: 법인세할주민세처분취소, 선고일자: 2014.04.10, 법원종류: 대법원]\n",
      " 법인의 사업장이 2 이상의 시·군에 소재하는 경우, 법인이 각 시·군에 납부할 세액을 정한 구 지방세법 시행령 제130조의5 제1항의 산식 중 ‘당해 시·군 내 건축물 연면적’과 ‘법인의 총건축물 연면적’이 동일한 기준에 의하여 산정되어야 하는지 여부(적극) 및 어느 시·군의 법인세할 주민세 부과처분이 확정되어 다툴 수 없게 된 상황에서 다른 시·군에 납부하여야 할 법인세할 주민세를 계산할 경우, 확정된 시·군에 소재하는 건축물의 연면적을 확정된 부과처분에서 적용한 기준이 아니라 법령에서 정한 정당한 기준에 따라 산정하여 ‘법인의 총건축물 연면적’을 계산하여야 하는지 여부(적극)\n",
      "\n",
      "[사건번호: 2012두6551, 사건명: 취득세등부과처분취소, 선고일자: 2012.07.12, 법원종류: 대법원]\n",
      "구 지방세법(2010. 3. 31. 법률 제10221호로 전부 개정되기 전의 것, 이하 같다) 제112조 제3항은 1998. 12. 31. 법률 제5615호로 개정되기 전과 달리 입법 취지를 반영하여 과밀억제권역 안에서 본점 또는 주사무소의 사업용 부동산을 취득하는 경우 중 인구유입과 산업집중의 효과가 뚜렷한 신축 또는 증축에 의한 취득만을 적용대상으로 규정하고 입법 취지에 어울리지 않는 그 밖의 승계취득 등은 미리 적용대상에서 배제하였으므로, 조세법률주의 원칙상 위 규정은 특별한 사정이 없는 한 법문대로 해석하여야 하고 더 이상 함부로 축소해석하여서는 아니되는 점, 과밀억제권역 안에서 신축 또는 증축한 사업용 부동산으로 본점 또는 주사무소를 이전하면 동일한 과밀억제권역 안의 기존 사업용 부동산에서 이전해 오는 경우라 하더라도 전체적으로 보아 그 과밀억제권역 안으로의 인구유입이나 산업집중의 효과가 없다고 할 수 없는 점 등을 종합하면, 과밀억제권역 안에서 본점 또는 주사무소용 건축물을 신축 또는 증축하여 취득하면 동일한 과밀억제권역 안에 있던 기존의 본점 또는 주사무소에서 이전해 오는 경우라고 하더라도 구 지방세법 제112조 제3항에 의한 취득세 중과대상에 해당한다고 봄이 타당하다. \n",
      "\n",
      "[사건번호: 2012두28940, 사건명: 등록세등 부과처분 취소, 선고일자: 2013.05.09, 법원종류: 대법원]\n",
      "사립학교법에 의한 학교법인 등이 대도시 외에서 대도시 내로 주사무소를 전입함에 따른 등기가 구 지방세법 제138조 제1항 제2호에 의한 등록세 중과세대상에 해당하는지 여부(적극) \n",
      "\n",
      "[사건번호: 2012두13511, 사건명: 취득세등중과세부과처분취소, 선고일자: 2015.03.26, 법원종류: 대법원]\n",
      "대도시에서 법인 설립, 지점·분사무소 설치 및 법인의 본점·주사무소·지점·분사무소의 대도시 전입에 따라 부동산을 취득하는 경우와 그 설립·설치·전입 이후 5년 이내에 대도시 내에서 부동산을 취득하는 경우, 취득세 중과대상이 되는 요건\n",
      "\n",
      "\n",
      "\n",
      "    이 판례 정보를 활용해 사용자 질문에 답변하되 없는 정보를 만들어내지 마.\n",
      "    답변을 생성할 때 참고한 정보의 출처를 반드시 [사건번호: <참고 내용의 사건번호>, 사건명: <참고 내용의 사건명>, 선고일자: <참고 내용의 선고일자>, 법원종류: <참고 내용의 법원>] 형식으로 표기해.\n",
      "    \n",
      "    Human: 사무실을 같은 동네에서 이전했는데 새로운 건물에 가격이 더 비싸다고 더 세금을 많이 내야 해?\n",
      "    Assistant:\n",
      "    \n",
      "\n",
      "Answer:\n",
      "<사건번호: 2012두6551, 사건명: 취득세등부과처분취소, 선고일자: 2012.07.12, 법원종류: 대법원>\n",
      "\n",
      "과밀억제권역 안에서 본점 또는 주사무소용 건축물을 신축 또는 증축하여 취득하는 경우, 동일한 과밀억제권역 안에 있던 기존의 본점 또는 주사무소에서 이전해 오더라도 구 지방세법 제112조 제3항에 의한 취득세 중과대상에 해당합니다. \n",
      "\n",
      "따라서 같은 동네 내에서 사무실 건물을 신축 또는 증축하여 취득할 경우, 기존 사무실에서 이전하더라도 취득세 중과세 대상이 될 수 있습니다.\n",
      "History:\n",
      "[{'human': '사무실을 같은 동네에서 이전했는데 새로운 건물에 가격이 더 비싸다고 더 세금을 많이 내야 해?', 'assistant': '<사건번호: 2012두6551, 사건명: 취득세등부과처분취소, 선고일자: 2012.07.12, 법원종류: 대법원>\\n\\n과밀억제권역 안에서 본점 또는 주사무소용 건축물을 신축 또는 증축하여 취득하는 경우, 동일한 과밀억제권역 안에 있던 기존의 본점 또는 주사무소에서 이전해 오더라도 구 지방세법 제112조 제3항에 의한 취득세 중과대상에 해당합니다. \\n\\n따라서 같은 동네 내에서 사무실 건물을 신축 또는 증축하여 취득할 경우, 기존 사무실에서 이전하더라도 취득세 중과세 대상이 될 수 있습니다.'}]\n",
      "\n"
     ]
    }
   ],
   "source": [
    "# 1\n",
    "print('Prompt:')\n",
    "prompt = generate_prompt(query1, search_result, conversation_history)\n",
    "print(prompt)\n",
    "print()\n",
    "\n",
    "print('Answer:')\n",
    "answer = ''\n",
    "for chunk in generate_stream_answer(prompt):\n",
    "    print(chunk, end='')\n",
    "    answer += chunk\n",
    "print()\n",
    "\n",
    "print('History:')\n",
    "conversation_history.append({'human': query1, 'assistant': answer})\n",
    "print(conversation_history)\n",
    "print()"
   ]
  },
  {
   "cell_type": "code",
   "execution_count": 104,
   "id": "c3a49953-4073-460b-b2fa-ff4225f4906b",
   "metadata": {},
   "outputs": [
    {
     "name": "stdout",
     "output_type": "stream",
     "text": [
      "Prompt:\n",
      "\n",
      "    Human: 너는 한국 세법 전문가로 판례를 해석해서 사용자에게 필요한 세무 정보를 제공하는 AI assistant야.\n",
      "\n",
      "    아래 주어지는 정보들은 이전 대화 내용이야.\n",
      "    Human: 사무실을 같은 동네에서 이전했는데 새로운 건물에 가격이 더 비싸다고 더 세금을 많이 내야 해?\n",
      "Assistant: <사건번호: 2012두6551, 사건명: 취득세등부과처분취소, 선고일자: 2012.07.12, 법원종류: 대법원>\n",
      "\n",
      "과밀억제권역 안에서 본점 또는 주사무소용 건축물을 신축 또는 증축하여 취득하는 경우, 동일한 과밀억제권역 안에 있던 기존의 본점 또는 주사무소에서 이전해 오더라도 구 지방세법 제112조 제3항에 의한 취득세 중과대상에 해당합니다. \n",
      "\n",
      "따라서 같은 동네 내에서 사무실 건물을 신축 또는 증축하여 취득할 경우, 기존 사무실에서 이전하더라도 취득세 중과세 대상이 될 수 있습니다.\n",
      "\n",
      "    \n",
      "    아래 주어지는 정보들은 사용자의 질문과 관련된 판례 정보야.\n",
      "    [사건번호: 2012두6551, 사건명: 취득세등부과처분취소, 선고일자: 2012.07.12, 법원종류: 대법원]\n",
      "과밀억제권역 안에서 본점 또는 주사무소용 건축물을 신축 또는 증축하여 취득하는 경우, 동일한 과밀억제권역 안에 있던 기존의 본점 또는 주사무소에서 이전해 오더라도 구 지방세법 제112조 제3항에 의한 취득세 중과대상인지 여부(적극) \n",
      "\n",
      "[사건번호: 2013두26194, 사건명: 법인세할주민세처분취소, 선고일자: 2014.04.10, 법원종류: 대법원]\n",
      " 법인의 사업장이 2 이상의 시·군에 소재하는 경우, 법인이 각 시·군에 납부할 세액을 정한 구 지방세법 시행령 제130조의5 제1항의 산식 중 ‘당해 시·군 내 건축물 연면적’과 ‘법인의 총건축물 연면적’이 동일한 기준에 의하여 산정되어야 하는지 여부(적극) 및 어느 시·군의 법인세할 주민세 부과처분이 확정되어 다툴 수 없게 된 상황에서 다른 시·군에 납부하여야 할 법인세할 주민세를 계산할 경우, 확정된 시·군에 소재하는 건축물의 연면적을 확정된 부과처분에서 적용한 기준이 아니라 법령에서 정한 정당한 기준에 따라 산정하여 ‘법인의 총건축물 연면적’을 계산하여야 하는지 여부(적극)\n",
      "\n",
      "[사건번호: 2012두6551, 사건명: 취득세등부과처분취소, 선고일자: 2012.07.12, 법원종류: 대법원]\n",
      "구 지방세법(2010. 3. 31. 법률 제10221호로 전부 개정되기 전의 것, 이하 같다) 제112조 제3항은 1998. 12. 31. 법률 제5615호로 개정되기 전과 달리 입법 취지를 반영하여 과밀억제권역 안에서 본점 또는 주사무소의 사업용 부동산을 취득하는 경우 중 인구유입과 산업집중의 효과가 뚜렷한 신축 또는 증축에 의한 취득만을 적용대상으로 규정하고 입법 취지에 어울리지 않는 그 밖의 승계취득 등은 미리 적용대상에서 배제하였으므로, 조세법률주의 원칙상 위 규정은 특별한 사정이 없는 한 법문대로 해석하여야 하고 더 이상 함부로 축소해석하여서는 아니되는 점, 과밀억제권역 안에서 신축 또는 증축한 사업용 부동산으로 본점 또는 주사무소를 이전하면 동일한 과밀억제권역 안의 기존 사업용 부동산에서 이전해 오는 경우라 하더라도 전체적으로 보아 그 과밀억제권역 안으로의 인구유입이나 산업집중의 효과가 없다고 할 수 없는 점 등을 종합하면, 과밀억제권역 안에서 본점 또는 주사무소용 건축물을 신축 또는 증축하여 취득하면 동일한 과밀억제권역 안에 있던 기존의 본점 또는 주사무소에서 이전해 오는 경우라고 하더라도 구 지방세법 제112조 제3항에 의한 취득세 중과대상에 해당한다고 봄이 타당하다. \n",
      "\n",
      "[사건번호: 2012두28940, 사건명: 등록세등 부과처분 취소, 선고일자: 2013.05.09, 법원종류: 대법원]\n",
      "사립학교법에 의한 학교법인 등이 대도시 외에서 대도시 내로 주사무소를 전입함에 따른 등기가 구 지방세법 제138조 제1항 제2호에 의한 등록세 중과세대상에 해당하는지 여부(적극) \n",
      "\n",
      "[사건번호: 2012두13511, 사건명: 취득세등중과세부과처분취소, 선고일자: 2015.03.26, 법원종류: 대법원]\n",
      "대도시에서 법인 설립, 지점·분사무소 설치 및 법인의 본점·주사무소·지점·분사무소의 대도시 전입에 따라 부동산을 취득하는 경우와 그 설립·설치·전입 이후 5년 이내에 대도시 내에서 부동산을 취득하는 경우, 취득세 중과대상이 되는 요건\n",
      "\n",
      "\n",
      "\n",
      "    이 판례 정보를 활용해 사용자 질문에 답변하되 없는 정보를 만들어내지 마.\n",
      "    답변을 생성할 때 참고한 정보의 출처를 반드시 [사건번호: <참고 내용의 사건번호>, 사건명: <참고 내용의 사건명>, 선고일자: <참고 내용의 선고일자>, 법원종류: <참고 내용의 법원>] 형식으로 표기해.\n",
      "    \n",
      "    Human: 그럼 어떤 법령을 기준으로 돈을 내야 하는건지 자세히 설명해봐\n",
      "    Assistant:\n",
      "    \n",
      "\n",
      "Answer:\n",
      "사용자 질문에 대한 답변을 위해 아래 판례 정보를 참고하였습니다.\n",
      "\n",
      "같은 동네 내에서 사무실 건물을 신축 또는 증축하여 취득할 경우, 기존 사무실에서 이전하더라도 취득세 중과세 대상이 될 수 있습니다. \n",
      "\n",
      "[사건번호: 2012두6551, 사건명: 취득세등부과처분취소, 선고일자: 2012.07.12, 법원종류: 대법원]\n",
      "과밀억제권역 안에서 본점 또는 주사무소용 건축물을 신축 또는 증축하여 취득하는 경우, 동일한 과밀억제권역 안에 있던 기존의 본점 또는 주사무소에서 이전해 오더라도 구 지방세법 제112조 제3항에 의한 취득세 중과대상에 해당합니다.\n",
      "\n",
      "즉, 과밀억제권역 안에서 사업용 건축물을 신축하거나 증축하여 본점이나 주사무소를 옮기면, 같은 과밀억제권역 내에서 이전한 경우라도 취득세 중과세 대상이 됩니다. \n",
      "\n",
      "따라서 구 지방세법 제112조 제3항을 기준으로 취득세 중과세 여부가 판단됩니다.\n",
      "History:\n",
      "[{'human': '사무실을 같은 동네에서 이전했는데 새로운 건물에 가격이 더 비싸다고 더 세금을 많이 내야 해?', 'assistant': '<사건번호: 2012두6551, 사건명: 취득세등부과처분취소, 선고일자: 2012.07.12, 법원종류: 대법원>\\n\\n과밀억제권역 안에서 본점 또는 주사무소용 건축물을 신축 또는 증축하여 취득하는 경우, 동일한 과밀억제권역 안에 있던 기존의 본점 또는 주사무소에서 이전해 오더라도 구 지방세법 제112조 제3항에 의한 취득세 중과대상에 해당합니다. \\n\\n따라서 같은 동네 내에서 사무실 건물을 신축 또는 증축하여 취득할 경우, 기존 사무실에서 이전하더라도 취득세 중과세 대상이 될 수 있습니다.'}, {'Human': '사무실을 같은 동네에서 이전했는데 새로운 건물에 가격이 더 비싸다고 더 세금을 많이 내야 해?', 'Assistant': '사용자 질문에 대한 답변을 위해 아래 판례 정보를 참고하였습니다.\\n\\n같은 동네 내에서 사무실 건물을 신축 또는 증축하여 취득할 경우, 기존 사무실에서 이전하더라도 취득세 중과세 대상이 될 수 있습니다. \\n\\n[사건번호: 2012두6551, 사건명: 취득세등부과처분취소, 선고일자: 2012.07.12, 법원종류: 대법원]\\n과밀억제권역 안에서 본점 또는 주사무소용 건축물을 신축 또는 증축하여 취득하는 경우, 동일한 과밀억제권역 안에 있던 기존의 본점 또는 주사무소에서 이전해 오더라도 구 지방세법 제112조 제3항에 의한 취득세 중과대상에 해당합니다.\\n\\n즉, 과밀억제권역 안에서 사업용 건축물을 신축하거나 증축하여 본점이나 주사무소를 옮기면, 같은 과밀억제권역 내에서 이전한 경우라도 취득세 중과세 대상이 됩니다. \\n\\n따라서 구 지방세법 제112조 제3항을 기준으로 취득세 중과세 여부가 판단됩니다.'}]\n",
      "\n"
     ]
    }
   ],
   "source": [
    "# 2\n",
    "print('Prompt:')\n",
    "prompt = generate_prompt(query2, search_result, conversation_history)\n",
    "print(prompt)\n",
    "print()\n",
    "\n",
    "print('Answer:')\n",
    "answer = ''\n",
    "for chunk in generate_stream_answer(prompt):\n",
    "    print(chunk, end='')\n",
    "    answer += chunk\n",
    "print()\n",
    "\n",
    "print('History:')\n",
    "conversation_history.append({'Human': query1, 'Assistant': answer})\n",
    "print(conversation_history)\n",
    "print()"
   ]
  },
  {
   "cell_type": "code",
   "execution_count": null,
   "id": "4acef832-3094-4e14-9c7e-53b2c9ac5dab",
   "metadata": {},
   "outputs": [],
   "source": []
  }
 ],
 "metadata": {
  "kernelspec": {
   "display_name": "Python 3 (ipykernel)",
   "language": "python",
   "name": "python3"
  },
  "language_info": {
   "codemirror_mode": {
    "name": "ipython",
    "version": 3
   },
   "file_extension": ".py",
   "mimetype": "text/x-python",
   "name": "python",
   "nbconvert_exporter": "python",
   "pygments_lexer": "ipython3",
   "version": "3.10.14"
  }
 },
 "nbformat": 4,
 "nbformat_minor": 5
}
